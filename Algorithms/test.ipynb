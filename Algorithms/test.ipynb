{
 "cells": [
  {
   "cell_type": "markdown",
   "metadata": {
    "collapsed": true,
    "pycharm": {
     "name": "#%% md\n"
    }
   },
   "source": [
    "## No.119：Pascal's Triangle II\n",
    "\n",
    "###### 难度：简单\n",
    "\n",
    "#### 问题描述：\n",
    "\n",
    "##### &emsp;&emsp;给定一个非负索引 k，其中 k ≤ 33，返回杨辉三角的第 k 行。\n",
    "\n",
    "##### &emsp;&emsp;在杨辉三角中，每个数是它左上方和右上方的数的和。\n",
    "\n",
    "#### 示例:\n",
    "\n",
    "##### &emsp;&emsp;输入: 3\n",
    "\n",
    "##### &emsp;&emsp;输出: [1,3,3,1]\n",
    "\n",
    "#### 解题思路：\n",
    "\n",
    "##### &emsp;&emsp;可以直接基于组合数公式\n",
    "\n",
    "##### &emsp;&emsp;C$\\tbinom{n}{m}$ = $\\frac{n!}{m!(n-m)!}$\n",
    "\n",
    "###### 来源：力扣（LeetCode）\n",
    "###### 链接：https://leetcode-cn.com/problems/pascals-triangle-ii\n"
   ]
  }
 ],
 "metadata": {
  "kernelspec": {
   "display_name": "Python 3",
   "language": "python",
   "name": "python3"
  },
  "language_info": {
   "codemirror_mode": {
    "name": "ipython",
    "version": 2
   },
   "file_extension": ".py",
   "mimetype": "text/x-python",
   "name": "python",
   "nbconvert_exporter": "python",
   "pygments_lexer": "ipython2",
   "version": "2.7.6"
  }
 },
 "nbformat": 4,
 "nbformat_minor": 0
}